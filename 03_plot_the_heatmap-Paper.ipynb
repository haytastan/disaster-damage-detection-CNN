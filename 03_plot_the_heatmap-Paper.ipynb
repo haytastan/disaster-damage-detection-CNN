{
 "cells": [
  {
   "cell_type": "code",
   "execution_count": null,
   "metadata": {
    "button": false,
    "collapsed": true,
    "deletable": true,
    "new_sheet": false,
    "run_control": {
     "read_only": false
    }
   },
   "outputs": [],
   "source": [
    "import os\n",
    "import cv2\n",
    "import matplotlib.pyplot as plt\n",
    "plt.style.use('seaborn-poster')\n",
    "%matplotlib inline\n",
    "from keras import models\n",
    "import numpy as np\n",
    "import shutil\n",
    "import pandas as pd\n",
    "import glob\n",
    "import matplotlib.image as mpimg\n",
    "\n",
    "from keras import backend as K"
   ]
  },
  {
   "cell_type": "code",
   "execution_count": null,
   "metadata": {
    "button": false,
    "collapsed": true,
    "deletable": true,
    "new_sheet": false,
    "run_control": {
     "read_only": false
    }
   },
   "outputs": [],
   "source": [
    "def plot_heatmap(row, predicted_label, model, plot_ix=None):\n",
    "    \n",
    "    if plot_ix is None:\n",
    "        ix = np.argmax(predicted_label)\n",
    "        output_file = 'estimated.jpg'\n",
    "    else:\n",
    "        if plot_ix:\n",
    "            output_file = 'damage.jpg'\n",
    "        else:\n",
    "            output_file = 'other.jpg'\n",
    "            \n",
    "        ix = plot_ix\n",
    "        \n",
    "    image_output = model.output[:, ix]\n",
    "    # The is the output feature map of the `block5_conv4` layer,\n",
    "    # the last convolutional layer in VGG19\n",
    "    last_conv_layer = model.get_layer('vgg19')\n",
    "\n",
    "    # This is the gradient of the estimated class with regard to\n",
    "    # the output feature map of the vgg19 model\n",
    "    grads = K.gradients(image_output, last_conv_layer.get_output_at(1))[0]\n",
    "    \n",
    "    # This is a vector of shape (512,), where each entry\n",
    "    # is the mean intensity of the gradient over a specific feature map channel\n",
    "    pooled_grads = K.mean(grads, axis=(0, 1, 2))\n",
    "    \n",
    "    # This function allows us to access the values of the quantities we just defined:\n",
    "    # `pooled_grads` and the output feature map of `block5_conv4`,\n",
    "    # given a sample image\n",
    "    iterate = K.function([model.input], [pooled_grads, last_conv_layer.get_output_at(1)])\n",
    "\n",
    "    # These are the values of these two quantities, as Numpy arrays,\n",
    "    # given our sample image of two elephants\n",
    "    pooled_grads_value, conv_layer_output_value = iterate([image_array])\n",
    "\n",
    "    # We multiply each channel in the feature map array\n",
    "    # by \"how important this channel is\" with regard to the elephant class\n",
    "    for i in range(512):\n",
    "        conv_layer_output_value[0, :, :, i] *= pooled_grads_value[i]\n",
    "\n",
    "    # The channel-wise mean of the resulting feature map\n",
    "    # is our heatmap of class activation\n",
    "    heatmap = np.nanmean(conv_layer_output_value, axis=-1)\n",
    "    \n",
    "    heatmap = np.maximum(heatmap[0], 0)\n",
    "    heatmap /= np.max(heatmap)\n",
    "    if np.isnan(np.max(heatmap)):\n",
    "        return 0\n",
    "    # We use cv2 to load the original image\n",
    "    img = cv2.imread(image_path + row['folder'] + '/' + image)\n",
    "\n",
    "    # We resize the heatmap to have the same size as the original image\n",
    "    heatmap = cv2.resize(heatmap, (img.shape[1], img.shape[0]))\n",
    "\n",
    "    # We convert the heatmap to RGB\n",
    "    heatmap = np.uint8(255 * heatmap)\n",
    "\n",
    "    # We apply the heatmap to the original image\n",
    "    heatmap = cv2.applyColorMap(heatmap, cv2.COLORMAP_JET)\n",
    "\n",
    "    # 0.4 here is a heatmap intensity factor\n",
    "    superimposed_img = heatmap * 0.4 + img\n",
    "\n",
    "    # Save the image to disk\n",
    "    cv2.imwrite(output_file, superimposed_img)\n",
    "    return 1"
   ]
  },
  {
   "cell_type": "code",
   "execution_count": null,
   "metadata": {
    "button": false,
    "collapsed": true,
    "deletable": true,
    "new_sheet": false,
    "run_control": {
     "read_only": false
    }
   },
   "outputs": [],
   "source": [
    "def make_double_plot(image_list, titles, filename=None):\n",
    "    rows = 1\n",
    "    cols = 2\n",
    "    axes=[]\n",
    "\n",
    "    fig=plt.figure(figsize=(18,12))\n",
    "\n",
    "    for i, a in enumerate(range(rows*cols)):\n",
    "        img = image_list[i]\n",
    "        axes.append( fig.add_subplot(rows, cols, a+1) )\n",
    "        subplot_title=titles[i]\n",
    "        axes[-1].set_title(subplot_title)  \n",
    "        plt.imshow(img)\n",
    "    fig.tight_layout()   \n",
    "    if filename:\n",
    "        plt.savefig(filename, bbox_inches = 'tight',  pad_inches = 0.1)\n",
    "        plt.close()\n",
    "    else:\n",
    "        plt.show()\n",
    "    "
   ]
  },
  {
   "cell_type": "code",
   "execution_count": null,
   "metadata": {
    "button": false,
    "collapsed": true,
    "deletable": true,
    "new_sheet": false,
    "run_control": {
     "read_only": false
    }
   },
   "outputs": [],
   "source": [
    "model = models.load_model(\n",
    "    './trained_models/2_class_VGG19/Best_model.h5')"
   ]
  },
  {
   "cell_type": "code",
   "execution_count": null,
   "metadata": {
    "button": false,
    "collapsed": true,
    "deletable": true,
    "new_sheet": false,
    "run_control": {
     "read_only": false
    }
   },
   "outputs": [],
   "source": [
    "image_path = '../dataset027/'\n",
    "\n",
    "label = {0:'non-damge', 1:'damage'}"
   ]
  },
  {
   "cell_type": "code",
   "execution_count": null,
   "metadata": {
    "button": false,
    "collapsed": true,
    "deletable": true,
    "new_sheet": false,
    "run_control": {
     "read_only": false
    }
   },
   "outputs": [],
   "source": [
    "li = []\n",
    "for item in glob.glob('../../dataset027/output_*'):\n",
    "    filename = item + '/output.csv'\n",
    "    folder = item.split('_')[1]\n",
    "    df_tmp = pd.read_csv(filename, index_col=None, header=0)\n",
    "    df_tmp['folder'] = folder\n",
    "    li.append(df_tmp)\n",
    "\n",
    "output_df = pd.concat(li, axis=0, ignore_index=True)"
   ]
  },
  {
   "cell_type": "code",
   "execution_count": null,
   "metadata": {
    "button": false,
    "collapsed": true,
    "deletable": true,
    "new_sheet": false,
    "run_control": {
     "read_only": false
    }
   },
   "outputs": [],
   "source": [
    "for ix, row in output_df.iterrows():\n",
    "    image = row['image']\n",
    "    folder = row['folder']\n",
    "    img_temp = cv2.resize(cv2.imread(image_path+folder+'/'+image, cv2.IMREAD_COLOR), (150, 150), interpolation=cv2.INTER_CUBIC)\n",
    "    b,g,r = cv2.split(img_temp)           # get b, g, r\n",
    "    rgb_img1 = cv2.merge([r,g,b])     # switch it to r, g, b\n",
    "    rgb_img1\n",
    "    X_any = []\n",
    "    X_any.append(rgb_img1)\n",
    "    image_array = np.array(X_any)/255\n",
    "    preds = model.predict(image_array)\n",
    "    predicted_label = preds.flatten()\n",
    "        \n",
    "    a = plot_heatmap(row, predicted_label, model, plot_ix=0)\n",
    "    if not a:\n",
    "        continue\n",
    "    superimposed_img = mpimg.imread('./other.jpg')\n",
    "    \n",
    "    a = plot_heatmap(row, predicted_label, model, plot_ix=1)\n",
    "    if not a:\n",
    "        continue\n",
    "    superimposed_img2 = mpimg.imread('./damage.jpg')\n",
    "    \n",
    "    image_list = [superimposed_img, superimposed_img2]\n",
    "    titles = ['Ground truth: %s, estimated: %s\\n with probability %.2f'%(label[row['groundTruth']], 'non-damage', 1 - row['output']), \n",
    "              'Ground truth: %s, estimated: %s\\n with probability %.2f'%(label[row['groundTruth']], 'damage', row['output'])]\n",
    "\n",
    "    output_name = './grad_cam_results/' + image\n",
    "    make_double_plot(image_list, titles,output_name)"
   ]
  }
 ],
 "metadata": {
  "kernelspec": {
   "display_name": "Python 3",
   "language": "python",
   "name": "python3"
  },
  "language_info": {
   "codemirror_mode": {
    "name": "ipython",
    "version": 3
   },
   "file_extension": ".py",
   "mimetype": "text/x-python",
   "name": "python",
   "nbconvert_exporter": "python",
   "pygments_lexer": "ipython3",
   "version": "3.5.0"
  }
 },
 "nbformat": 4,
 "nbformat_minor": 4
}
