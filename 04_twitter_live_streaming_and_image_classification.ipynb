{
 "cells": [
  {
   "cell_type": "code",
   "execution_count": null,
   "metadata": {},
   "outputs": [],
   "source": [
    "__author__ = 'Gaurav Chachra'\n",
    "__email__ = 'chachra@berkeley.edu'\n",
    "\n",
    "from keras import models\n",
    "import numpy as np\n",
    "import cv2\n",
    "from keras.preprocessing.image import ImageDataGenerator\n",
    "import pandas as pd\n",
    "import urllib.request as req\n",
    "import os\n",
    "import urllib\n",
    "import tweepy\n",
    "import json"
   ]
  },
  {
   "cell_type": "code",
   "execution_count": null,
   "metadata": {},
   "outputs": [],
   "source": [
    "model = models.load_model('../model/best_model.h5')"
   ]
  },
  {
   "cell_type": "code",
   "execution_count": null,
   "metadata": {},
   "outputs": [],
   "source": [
    "def twitter_image(url):\n",
    "    X_any = []\n",
    "\n",
    "    resp = urllib.request.urlopen(url)\n",
    "    image = np.asarray(bytearray(resp.read()), dtype='uint8')\n",
    "    img_temp = cv2.resize(cv2.imdecode(image, cv2.IMREAD_COLOR), (150, 150), interpolation=cv2.INTER_CUBIC)\n",
    "    b,g,r = cv2.split(img_temp)           # get b, g, r\n",
    "    rgb_img1 = cv2.merge([r,g,b])     # switch it to r, g, b\n",
    "    X_any = []\n",
    "    X_any.append(rgb_img1)\n",
    "    return X_any\n",
    "\n",
    "def image_classify(url, tweet_id):\n",
    "    image = twitter_image(url)\n",
    "    image_array = np.array(image)/255\n",
    "    predicted_label = model.predict(image_array).flatten()\n",
    "    damage_probability = predicted_label[1]\n",
    "    if damage_probability>=0.5:\n",
    "        req.urlretrieve(url, '../output/damage/' + str(round(damage_probability, 2)) + '-' + str(tweet_id) + '-' + url.split('/')[-1])\n",
    "    if damage_probability<0.5:\n",
    "        req.urlretrieve(url, '../output/other/' + str(round(damage_probability, 2)) + '-' + str(tweet_id) + '-' + url.split('/')[-1])\n",
    "#         req.urlretrieve(url, '../output/other/' + str(damage_probability) + '_' + str(tweet_id) + url[-4:])"
   ]
  },
  {
   "cell_type": "code",
   "execution_count": null,
   "metadata": {
    "scrolled": true
   },
   "outputs": [],
   "source": [
    "if 'tweets.pkl' in os.listdir():\n",
    "    tweets_df = pd.read_pickle('./tweets.pkl')\n",
    "else:\n",
    "    tweets_df = pd.DataFrame(columns = ['id', 'media_url'])\n",
    "    tweets_df.to_pickle('./tweets.pkl')\n",
    "\n",
    "class MyStreamListener(tweepy.StreamListener):\n",
    "\n",
    "    def on_status(self, status):\n",
    "        \n",
    "        tweets_df = pd.read_pickle('./tweets.pkl')\n",
    "\n",
    "        if 'extended_entities' in status._json.keys():\n",
    "            if 'media' in status._json['extended_entities'].keys():\n",
    "                for image in status._json['extended_entities']['media']:\n",
    "                    if image['media_url'][21] == 'm':\n",
    "                        if tweets_df['media_url'].str.contains(image['media_url']).any() == False:\n",
    "                            tweets_df = tweets_df.append({'id':status._json['id'], 'media_url':image['media_url']}, ignore_index=True)\n",
    "                            tweets_df.to_pickle('./tweets.pkl')\n",
    "                            image_classify(image['media_url'], status._json['id'])\n",
    "\n",
    "\n",
    "with open('twitter_credentials.json', 'r') as file:\n",
    "    credentials = json.load(file)\n",
    "auth = tweepy.OAuthHandler(credentials['CONSUMER_KEY'] , credentials['CONSUMER_SECRET'] )\n",
    "auth.set_access_token(credentials['ACCESS_TOKEN'], credentials['ACCESS_SECRET'])\n",
    "\n",
    "api = tweepy.API(auth)\n",
    "\n",
    "keyword = 'earthquake'\n",
    "myStreamListener = MyStreamListener()\n",
    "myStream = tweepy.Stream(auth = api.auth, listener=myStreamListener)\n",
    "myStream.filter(track=[keyword])"
   ]
  }
 ],
 "metadata": {
  "kernelspec": {
   "display_name": "Python 3",
   "language": "python",
   "name": "python3"
  },
  "language_info": {
   "codemirror_mode": {
    "name": "ipython",
    "version": 3
   },
   "file_extension": ".py",
   "mimetype": "text/x-python",
   "name": "python",
   "nbconvert_exporter": "python",
   "pygments_lexer": "ipython3",
   "version": "3.6.8"
  }
 },
 "nbformat": 4,
 "nbformat_minor": 4
}
